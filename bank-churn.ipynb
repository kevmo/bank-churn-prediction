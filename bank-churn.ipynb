{
 "cells": [
  {
   "cell_type": "code",
   "execution_count": 1,
   "id": "f80c8ccb",
   "metadata": {
    "_cell_guid": "b1076dfc-b9ad-4769-8c92-a6c4dae69d19",
    "_uuid": "8f2839f25d086af736a60e9eeb907d3b93b6e0e5",
    "execution": {
     "iopub.execute_input": "2024-01-10T20:59:01.570058Z",
     "iopub.status.busy": "2024-01-10T20:59:01.568941Z",
     "iopub.status.idle": "2024-01-10T20:59:04.003236Z",
     "shell.execute_reply": "2024-01-10T20:59:04.001686Z"
    },
    "papermill": {
     "duration": 2.440422,
     "end_time": "2024-01-10T20:59:04.005352",
     "exception": false,
     "start_time": "2024-01-10T20:59:01.564930",
     "status": "completed"
    },
    "tags": []
   },
   "outputs": [
    {
     "name": "stdout",
     "output_type": "stream",
     "text": [
      "/kaggle/input/playground-series-s4e1/sample_submission.csv\n",
      "/kaggle/input/playground-series-s4e1/train.csv\n",
      "/kaggle/input/playground-series-s4e1/test.csv\n"
     ]
    }
   ],
   "source": [
    "# This Python 3 environment comes with many helpful analytics libraries installed\n",
    "# It is defined by the kaggle/python Docker image: https://github.com/kaggle/docker-python\n",
    "# For example, here's several helpful packages to load\n",
    "\n",
    "import pandas as pd\n",
    "import matplotlib.pyplot as plt\n",
    "import seaborn as sns\n",
    "import numpy as np\n",
    "from scipy.stats import norm\n",
    "from sklearn.preprocessing import StandardScaler\n",
    "from scipy import stats\n",
    "import warnings\n",
    "warnings.filterwarnings('ignore')\n",
    "%matplotlib inline\n",
    "\n",
    "# Input data files are available in the read-only \"../input/\" directory\n",
    "# For example, running this (by clicking run or pressing Shift+Enter) will list all files under the input directory\n",
    "\n",
    "import os\n",
    "for dirname, _, filenames in os.walk('/kaggle/input'):\n",
    "    for filename in filenames:\n",
    "        print(os.path.join(dirname, filename))\n",
    "\n",
    "# You can write up to 20GB to the current directory (/kaggle/working/) that gets preserved as output when you create a version using \"Save & Run All\" \n",
    "# You can also write temporary files to /kaggle/temp/, but they won't be saved outside of the current session"
   ]
  },
  {
   "cell_type": "code",
   "execution_count": 2,
   "id": "6b6abb60",
   "metadata": {
    "execution": {
     "iopub.execute_input": "2024-01-10T20:59:04.011375Z",
     "iopub.status.busy": "2024-01-10T20:59:04.010839Z",
     "iopub.status.idle": "2024-01-10T20:59:04.350446Z",
     "shell.execute_reply": "2024-01-10T20:59:04.348829Z"
    },
    "papermill": {
     "duration": 0.344689,
     "end_time": "2024-01-10T20:59:04.352270",
     "exception": false,
     "start_time": "2024-01-10T20:59:04.007581",
     "status": "completed"
    },
    "tags": []
   },
   "outputs": [
    {
     "name": "stdout",
     "output_type": "stream",
     "text": [
      "<class 'pandas.core.frame.DataFrame'>\n",
      "RangeIndex: 165034 entries, 0 to 165033\n",
      "Data columns (total 14 columns):\n",
      " #   Column           Non-Null Count   Dtype  \n",
      "---  ------           --------------   -----  \n",
      " 0   id               165034 non-null  int64  \n",
      " 1   CustomerId       165034 non-null  int64  \n",
      " 2   Surname          165034 non-null  object \n",
      " 3   CreditScore      165034 non-null  int64  \n",
      " 4   Geography        165034 non-null  object \n",
      " 5   Gender           165034 non-null  object \n",
      " 6   Age              165034 non-null  float64\n",
      " 7   Tenure           165034 non-null  int64  \n",
      " 8   Balance          165034 non-null  float64\n",
      " 9   NumOfProducts    165034 non-null  int64  \n",
      " 10  HasCrCard        165034 non-null  float64\n",
      " 11  IsActiveMember   165034 non-null  float64\n",
      " 12  EstimatedSalary  165034 non-null  float64\n",
      " 13  Exited           165034 non-null  int64  \n",
      "dtypes: float64(5), int64(6), object(3)\n",
      "memory usage: 17.6+ MB\n"
     ]
    }
   ],
   "source": [
    "BASE_DIR = \"/kaggle/input/playground-series-s4e1/\"\n",
    "\n",
    "TRAIN_CSV = BASE_DIR + \"train.csv\"\n",
    "\n",
    "df_train = pd.read_csv(TRAIN_CSV)\n",
    "\n",
    "df_train.info()"
   ]
  },
  {
   "cell_type": "code",
   "execution_count": 3,
   "id": "65e67485",
   "metadata": {
    "execution": {
     "iopub.execute_input": "2024-01-10T20:59:04.357959Z",
     "iopub.status.busy": "2024-01-10T20:59:04.357562Z",
     "iopub.status.idle": "2024-01-10T20:59:04.435166Z",
     "shell.execute_reply": "2024-01-10T20:59:04.434474Z"
    },
    "papermill": {
     "duration": 0.082779,
     "end_time": "2024-01-10T20:59:04.437141",
     "exception": false,
     "start_time": "2024-01-10T20:59:04.354362",
     "status": "completed"
    },
    "tags": []
   },
   "outputs": [
    {
     "name": "stdout",
     "output_type": "stream",
     "text": [
      "                id    CustomerId    CreditScore            Age         Tenure  \\\n",
      "count  165034.0000  1.650340e+05  165034.000000  165034.000000  165034.000000   \n",
      "mean    82516.5000  1.569201e+07     656.454373      38.125888       5.020353   \n",
      "std     47641.3565  7.139782e+04      80.103340       8.867205       2.806159   \n",
      "min         0.0000  1.556570e+07     350.000000      18.000000       0.000000   \n",
      "25%     41258.2500  1.563314e+07     597.000000      32.000000       3.000000   \n",
      "50%     82516.5000  1.569017e+07     659.000000      37.000000       5.000000   \n",
      "75%    123774.7500  1.575682e+07     710.000000      42.000000       7.000000   \n",
      "max    165033.0000  1.581569e+07     850.000000      92.000000      10.000000   \n",
      "\n",
      "             Balance  NumOfProducts      HasCrCard  IsActiveMember  \\\n",
      "count  165034.000000  165034.000000  165034.000000   165034.000000   \n",
      "mean    55478.086689       1.554455       0.753954        0.497770   \n",
      "std     62817.663278       0.547154       0.430707        0.499997   \n",
      "min         0.000000       1.000000       0.000000        0.000000   \n",
      "25%         0.000000       1.000000       1.000000        0.000000   \n",
      "50%         0.000000       2.000000       1.000000        0.000000   \n",
      "75%    119939.517500       2.000000       1.000000        1.000000   \n",
      "max    250898.090000       4.000000       1.000000        1.000000   \n",
      "\n",
      "       EstimatedSalary         Exited  \n",
      "count    165034.000000  165034.000000  \n",
      "mean     112574.822734       0.211599  \n",
      "std       50292.865585       0.408443  \n",
      "min          11.580000       0.000000  \n",
      "25%       74637.570000       0.000000  \n",
      "50%      117948.000000       0.000000  \n",
      "75%      155152.467500       0.000000  \n",
      "max      199992.480000       1.000000  \n"
     ]
    }
   ],
   "source": [
    "print(df_train.describe())"
   ]
  },
  {
   "cell_type": "code",
   "execution_count": 4,
   "id": "69dfa452",
   "metadata": {
    "execution": {
     "iopub.execute_input": "2024-01-10T20:59:04.442486Z",
     "iopub.status.busy": "2024-01-10T20:59:04.442176Z",
     "iopub.status.idle": "2024-01-10T20:59:04.449803Z",
     "shell.execute_reply": "2024-01-10T20:59:04.448810Z"
    },
    "papermill": {
     "duration": 0.01248,
     "end_time": "2024-01-10T20:59:04.451835",
     "exception": false,
     "start_time": "2024-01-10T20:59:04.439355",
     "status": "completed"
    },
    "tags": []
   },
   "outputs": [
    {
     "data": {
      "text/plain": [
       "<function print>"
      ]
     },
     "execution_count": 4,
     "metadata": {},
     "output_type": "execute_result"
    }
   ],
   "source": [
    "print"
   ]
  },
  {
   "cell_type": "code",
   "execution_count": null,
   "id": "ba0f2c57",
   "metadata": {
    "papermill": {
     "duration": 0.001954,
     "end_time": "2024-01-10T20:59:04.456150",
     "exception": false,
     "start_time": "2024-01-10T20:59:04.454196",
     "status": "completed"
    },
    "tags": []
   },
   "outputs": [],
   "source": []
  }
 ],
 "metadata": {
  "kaggle": {
   "accelerator": "none",
   "dataSources": [
    {
     "databundleVersionId": 7405009,
     "sourceId": 65711,
     "sourceType": "competition"
    }
   ],
   "dockerImageVersionId": 30626,
   "isGpuEnabled": false,
   "isInternetEnabled": true,
   "language": "python",
   "sourceType": "notebook"
  },
  "kernelspec": {
   "display_name": "Python 3",
   "language": "python",
   "name": "python3"
  },
  "language_info": {
   "codemirror_mode": {
    "name": "ipython",
    "version": 3
   },
   "file_extension": ".py",
   "mimetype": "text/x-python",
   "name": "python",
   "nbconvert_exporter": "python",
   "pygments_lexer": "ipython3",
   "version": "3.10.12"
  },
  "papermill": {
   "default_parameters": {},
   "duration": 6.348139,
   "end_time": "2024-01-10T20:59:04.978428",
   "environment_variables": {},
   "exception": null,
   "input_path": "__notebook__.ipynb",
   "output_path": "__notebook__.ipynb",
   "parameters": {},
   "start_time": "2024-01-10T20:58:58.630289",
   "version": "2.4.0"
  }
 },
 "nbformat": 4,
 "nbformat_minor": 5
}
