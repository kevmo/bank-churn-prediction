{
 "cells": [
  {
   "cell_type": "code",
   "execution_count": 1,
   "id": "c72f6665",
   "metadata": {
    "_cell_guid": "b1076dfc-b9ad-4769-8c92-a6c4dae69d19",
    "_uuid": "8f2839f25d086af736a60e9eeb907d3b93b6e0e5",
    "execution": {
     "iopub.execute_input": "2024-01-11T20:22:28.926320Z",
     "iopub.status.busy": "2024-01-11T20:22:28.925922Z",
     "iopub.status.idle": "2024-01-11T20:22:31.566505Z",
     "shell.execute_reply": "2024-01-11T20:22:31.565125Z"
    },
    "papermill": {
     "duration": 2.650307,
     "end_time": "2024-01-11T20:22:31.569265",
     "exception": false,
     "start_time": "2024-01-11T20:22:28.918958",
     "status": "completed"
    },
    "tags": []
   },
   "outputs": [
    {
     "name": "stdout",
     "output_type": "stream",
     "text": [
      "/kaggle/input/playground-series-s4e1/sample_submission.csv\n",
      "/kaggle/input/playground-series-s4e1/train.csv\n",
      "/kaggle/input/playground-series-s4e1/test.csv\n"
     ]
    }
   ],
   "source": [
    "# kaggle/python Docker image: https://github.com/kaggle/docker-python\n",
    "\n",
    "import pandas as pd\n",
    "import matplotlib.pyplot as plt\n",
    "import seaborn as sns\n",
    "import numpy as np\n",
    "from scipy.stats import norm\n",
    "from sklearn.preprocessing import StandardScaler\n",
    "from scipy import stats\n",
    "import warnings\n",
    "warnings.filterwarnings('ignore')\n",
    "%matplotlib inline\n",
    "\n",
    "# Input data files are available in the read-only \"../input/\" directory\n",
    "# For example, running this (by clicking run or pressing Shift+Enter) will list all files under the input directory\n",
    "\n",
    "import os\n",
    "for dirname, _, filenames in os.walk('/kaggle/input'):\n",
    "    for filename in filenames:\n",
    "        print(os.path.join(dirname, filename))\n",
    "\n",
    "# You can write up to 20GB to the current directory (/kaggle/working/) that gets preserved as output when you create a version using \"Save & Run All\" \n",
    "# You can also write temporary files to /kaggle/temp/, but they won't be saved outside of the current session"
   ]
  },
  {
   "cell_type": "code",
   "execution_count": 2,
   "id": "91d062c8",
   "metadata": {
    "execution": {
     "iopub.execute_input": "2024-01-11T20:22:31.581858Z",
     "iopub.status.busy": "2024-01-11T20:22:31.581225Z",
     "iopub.status.idle": "2024-01-11T20:22:32.243572Z",
     "shell.execute_reply": "2024-01-11T20:22:32.242422Z"
    },
    "papermill": {
     "duration": 0.671291,
     "end_time": "2024-01-11T20:22:32.246032",
     "exception": false,
     "start_time": "2024-01-11T20:22:31.574741",
     "status": "completed"
    },
    "tags": []
   },
   "outputs": [
    {
     "name": "stdout",
     "output_type": "stream",
     "text": [
      "<class 'pandas.core.frame.DataFrame'>\n",
      "RangeIndex: 165034 entries, 0 to 165033\n",
      "Data columns (total 14 columns):\n",
      " #   Column           Non-Null Count   Dtype  \n",
      "---  ------           --------------   -----  \n",
      " 0   id               165034 non-null  int64  \n",
      " 1   CustomerId       165034 non-null  int64  \n",
      " 2   Surname          165034 non-null  object \n",
      " 3   CreditScore      165034 non-null  int64  \n",
      " 4   Geography        165034 non-null  object \n",
      " 5   Gender           165034 non-null  object \n",
      " 6   Age              165034 non-null  float64\n",
      " 7   Tenure           165034 non-null  int64  \n",
      " 8   Balance          165034 non-null  float64\n",
      " 9   NumOfProducts    165034 non-null  int64  \n",
      " 10  HasCrCard        165034 non-null  float64\n",
      " 11  IsActiveMember   165034 non-null  float64\n",
      " 12  EstimatedSalary  165034 non-null  float64\n",
      " 13  Exited           165034 non-null  int64  \n",
      "dtypes: float64(5), int64(6), object(3)\n",
      "memory usage: 17.6+ MB\n"
     ]
    }
   ],
   "source": [
    "BASE_DIR = \"/kaggle/input/playground-series-s4e1\"\n",
    "\n",
    "TRAIN_CSV = f\"{BASE_DIR}/train.csv\"\n",
    "\n",
    "df_train = pd.read_csv(TRAIN_CSV)\n",
    "\n",
    "df_train.info()"
   ]
  },
  {
   "cell_type": "code",
   "execution_count": 3,
   "id": "d209cced",
   "metadata": {
    "execution": {
     "iopub.execute_input": "2024-01-11T20:22:32.258479Z",
     "iopub.status.busy": "2024-01-11T20:22:32.257867Z",
     "iopub.status.idle": "2024-01-11T20:22:32.359364Z",
     "shell.execute_reply": "2024-01-11T20:22:32.357619Z"
    },
    "papermill": {
     "duration": 0.110764,
     "end_time": "2024-01-11T20:22:32.362001",
     "exception": false,
     "start_time": "2024-01-11T20:22:32.251237",
     "status": "completed"
    },
    "tags": []
   },
   "outputs": [
    {
     "name": "stdout",
     "output_type": "stream",
     "text": [
      "                id    CustomerId    CreditScore            Age         Tenure  \\\n",
      "count  165034.0000  1.650340e+05  165034.000000  165034.000000  165034.000000   \n",
      "mean    82516.5000  1.569201e+07     656.454373      38.125888       5.020353   \n",
      "std     47641.3565  7.139782e+04      80.103340       8.867205       2.806159   \n",
      "min         0.0000  1.556570e+07     350.000000      18.000000       0.000000   \n",
      "25%     41258.2500  1.563314e+07     597.000000      32.000000       3.000000   \n",
      "50%     82516.5000  1.569017e+07     659.000000      37.000000       5.000000   \n",
      "75%    123774.7500  1.575682e+07     710.000000      42.000000       7.000000   \n",
      "max    165033.0000  1.581569e+07     850.000000      92.000000      10.000000   \n",
      "\n",
      "             Balance  NumOfProducts      HasCrCard  IsActiveMember  \\\n",
      "count  165034.000000  165034.000000  165034.000000   165034.000000   \n",
      "mean    55478.086689       1.554455       0.753954        0.497770   \n",
      "std     62817.663278       0.547154       0.430707        0.499997   \n",
      "min         0.000000       1.000000       0.000000        0.000000   \n",
      "25%         0.000000       1.000000       1.000000        0.000000   \n",
      "50%         0.000000       2.000000       1.000000        0.000000   \n",
      "75%    119939.517500       2.000000       1.000000        1.000000   \n",
      "max    250898.090000       4.000000       1.000000        1.000000   \n",
      "\n",
      "       EstimatedSalary         Exited  \n",
      "count    165034.000000  165034.000000  \n",
      "mean     112574.822734       0.211599  \n",
      "std       50292.865585       0.408443  \n",
      "min          11.580000       0.000000  \n",
      "25%       74637.570000       0.000000  \n",
      "50%      117948.000000       0.000000  \n",
      "75%      155152.467500       0.000000  \n",
      "max      199992.480000       1.000000  \n"
     ]
    }
   ],
   "source": [
    "print(df_train.describe())"
   ]
  },
  {
   "cell_type": "code",
   "execution_count": 4,
   "id": "badc3907",
   "metadata": {
    "execution": {
     "iopub.execute_input": "2024-01-11T20:22:32.374840Z",
     "iopub.status.busy": "2024-01-11T20:22:32.374370Z",
     "iopub.status.idle": "2024-01-11T20:22:32.488493Z",
     "shell.execute_reply": "2024-01-11T20:22:32.486997Z"
    },
    "papermill": {
     "duration": 0.123644,
     "end_time": "2024-01-11T20:22:32.491192",
     "exception": false,
     "start_time": "2024-01-11T20:22:32.367548",
     "status": "completed"
    },
    "tags": []
   },
   "outputs": [
    {
     "data": {
      "text/plain": [
       "0"
      ]
     },
     "execution_count": 4,
     "metadata": {},
     "output_type": "execute_result"
    }
   ],
   "source": [
    "df_train.duplicated().sum()"
   ]
  },
  {
   "cell_type": "markdown",
   "id": "5342c08e",
   "metadata": {
    "papermill": {
     "duration": 0.005121,
     "end_time": "2024-01-11T20:22:32.502109",
     "exception": false,
     "start_time": "2024-01-11T20:22:32.496988",
     "status": "completed"
    },
    "tags": []
   },
   "source": [
    "# 0. Preprocess"
   ]
  },
  {
   "cell_type": "code",
   "execution_count": 5,
   "id": "280e6af9",
   "metadata": {
    "execution": {
     "iopub.execute_input": "2024-01-11T20:22:32.514837Z",
     "iopub.status.busy": "2024-01-11T20:22:32.514367Z",
     "iopub.status.idle": "2024-01-11T20:22:32.529631Z",
     "shell.execute_reply": "2024-01-11T20:22:32.528174Z"
    },
    "papermill": {
     "duration": 0.024774,
     "end_time": "2024-01-11T20:22:32.532304",
     "exception": false,
     "start_time": "2024-01-11T20:22:32.507530",
     "status": "completed"
    },
    "tags": []
   },
   "outputs": [],
   "source": [
    "DROP_COLUMNS = ['id', 'CustomerId', 'Surname']\n",
    "\n",
    "df = df_train.drop(DROP_COLUMNS, axis=1)"
   ]
  },
  {
   "cell_type": "code",
   "execution_count": 6,
   "id": "e38559d9",
   "metadata": {
    "execution": {
     "iopub.execute_input": "2024-01-11T20:22:32.545567Z",
     "iopub.status.busy": "2024-01-11T20:22:32.545111Z",
     "iopub.status.idle": "2024-01-11T20:22:32.609765Z",
     "shell.execute_reply": "2024-01-11T20:22:32.608208Z"
    },
    "papermill": {
     "duration": 0.074888,
     "end_time": "2024-01-11T20:22:32.612887",
     "exception": false,
     "start_time": "2024-01-11T20:22:32.537999",
     "status": "completed"
    },
    "tags": []
   },
   "outputs": [],
   "source": [
    "ONE_HOT_ENCODE_COLUMNS = ['Geography', 'Gender']\n",
    "\n",
    "df = pd.get_dummies(df, columns=ONE_HOT_ENCODE_COLUMNS, drop_first=True)"
   ]
  },
  {
   "cell_type": "code",
   "execution_count": 7,
   "id": "26fe5705",
   "metadata": {
    "execution": {
     "iopub.execute_input": "2024-01-11T20:22:32.626031Z",
     "iopub.status.busy": "2024-01-11T20:22:32.625599Z",
     "iopub.status.idle": "2024-01-11T20:22:32.655390Z",
     "shell.execute_reply": "2024-01-11T20:22:32.654280Z"
    },
    "papermill": {
     "duration": 0.039778,
     "end_time": "2024-01-11T20:22:32.658192",
     "exception": false,
     "start_time": "2024-01-11T20:22:32.618414",
     "status": "completed"
    },
    "tags": []
   },
   "outputs": [],
   "source": [
    "from sklearn.preprocessing import StandardScaler\n",
    "\n",
    "NUMERICAL_COLUMNS = ['CreditScore', 'Age', 'Tenure', 'Balance', 'NumOfProducts', 'EstimatedSalary']\n",
    "\n",
    "from sklearn.preprocessing import StandardScaler\n",
    "\n",
    "scaler = StandardScaler()\n",
    "df[NUMERICAL_COLUMNS] = scaler.fit_transform(df[NUMERICAL_COLUMNS])\n"
   ]
  },
  {
   "cell_type": "markdown",
   "id": "200c1589",
   "metadata": {
    "papermill": {
     "duration": 0.005152,
     "end_time": "2024-01-11T20:22:32.668988",
     "exception": false,
     "start_time": "2024-01-11T20:22:32.663836",
     "status": "completed"
    },
    "tags": []
   },
   "source": [
    "# 1. Train a Baseline model"
   ]
  },
  {
   "cell_type": "code",
   "execution_count": 8,
   "id": "a497321d",
   "metadata": {
    "execution": {
     "iopub.execute_input": "2024-01-11T20:22:32.681328Z",
     "iopub.status.busy": "2024-01-11T20:22:32.680936Z",
     "iopub.status.idle": "2024-01-11T20:22:32.841352Z",
     "shell.execute_reply": "2024-01-11T20:22:32.840278Z"
    },
    "papermill": {
     "duration": 0.169823,
     "end_time": "2024-01-11T20:22:32.844132",
     "exception": false,
     "start_time": "2024-01-11T20:22:32.674309",
     "status": "completed"
    },
    "tags": []
   },
   "outputs": [],
   "source": [
    "from sklearn.model_selection import train_test_split\n",
    "\n",
    "X = df.drop('Exited', axis=1)\n",
    "y = df['Exited']\n",
    "\n",
    "X_train, X_test, y_train, y_test = train_test_split(X, y, test_size=0.2, random_state=42)"
   ]
  },
  {
   "cell_type": "code",
   "execution_count": 9,
   "id": "ff9417a0",
   "metadata": {
    "execution": {
     "iopub.execute_input": "2024-01-11T20:22:32.858001Z",
     "iopub.status.busy": "2024-01-11T20:22:32.857294Z",
     "iopub.status.idle": "2024-01-11T20:22:32.958413Z",
     "shell.execute_reply": "2024-01-11T20:22:32.957249Z"
    },
    "papermill": {
     "duration": 0.111209,
     "end_time": "2024-01-11T20:22:32.961228",
     "exception": false,
     "start_time": "2024-01-11T20:22:32.850019",
     "status": "completed"
    },
    "tags": []
   },
   "outputs": [],
   "source": [
    "from sklearn.linear_model import LogisticRegression\n",
    "\n",
    "baseline_model = LogisticRegression(random_state=42)\n"
   ]
  },
  {
   "cell_type": "code",
   "execution_count": 10,
   "id": "8b03e58e",
   "metadata": {
    "execution": {
     "iopub.execute_input": "2024-01-11T20:22:32.973939Z",
     "iopub.status.busy": "2024-01-11T20:22:32.973518Z",
     "iopub.status.idle": "2024-01-11T20:22:33.317652Z",
     "shell.execute_reply": "2024-01-11T20:22:33.316143Z"
    },
    "papermill": {
     "duration": 0.355651,
     "end_time": "2024-01-11T20:22:33.322490",
     "exception": false,
     "start_time": "2024-01-11T20:22:32.966839",
     "status": "completed"
    },
    "tags": []
   },
   "outputs": [
    {
     "data": {
      "text/html": [
       "<style>#sk-container-id-1 {color: black;background-color: white;}#sk-container-id-1 pre{padding: 0;}#sk-container-id-1 div.sk-toggleable {background-color: white;}#sk-container-id-1 label.sk-toggleable__label {cursor: pointer;display: block;width: 100%;margin-bottom: 0;padding: 0.3em;box-sizing: border-box;text-align: center;}#sk-container-id-1 label.sk-toggleable__label-arrow:before {content: \"▸\";float: left;margin-right: 0.25em;color: #696969;}#sk-container-id-1 label.sk-toggleable__label-arrow:hover:before {color: black;}#sk-container-id-1 div.sk-estimator:hover label.sk-toggleable__label-arrow:before {color: black;}#sk-container-id-1 div.sk-toggleable__content {max-height: 0;max-width: 0;overflow: hidden;text-align: left;background-color: #f0f8ff;}#sk-container-id-1 div.sk-toggleable__content pre {margin: 0.2em;color: black;border-radius: 0.25em;background-color: #f0f8ff;}#sk-container-id-1 input.sk-toggleable__control:checked~div.sk-toggleable__content {max-height: 200px;max-width: 100%;overflow: auto;}#sk-container-id-1 input.sk-toggleable__control:checked~label.sk-toggleable__label-arrow:before {content: \"▾\";}#sk-container-id-1 div.sk-estimator input.sk-toggleable__control:checked~label.sk-toggleable__label {background-color: #d4ebff;}#sk-container-id-1 div.sk-label input.sk-toggleable__control:checked~label.sk-toggleable__label {background-color: #d4ebff;}#sk-container-id-1 input.sk-hidden--visually {border: 0;clip: rect(1px 1px 1px 1px);clip: rect(1px, 1px, 1px, 1px);height: 1px;margin: -1px;overflow: hidden;padding: 0;position: absolute;width: 1px;}#sk-container-id-1 div.sk-estimator {font-family: monospace;background-color: #f0f8ff;border: 1px dotted black;border-radius: 0.25em;box-sizing: border-box;margin-bottom: 0.5em;}#sk-container-id-1 div.sk-estimator:hover {background-color: #d4ebff;}#sk-container-id-1 div.sk-parallel-item::after {content: \"\";width: 100%;border-bottom: 1px solid gray;flex-grow: 1;}#sk-container-id-1 div.sk-label:hover label.sk-toggleable__label {background-color: #d4ebff;}#sk-container-id-1 div.sk-serial::before {content: \"\";position: absolute;border-left: 1px solid gray;box-sizing: border-box;top: 0;bottom: 0;left: 50%;z-index: 0;}#sk-container-id-1 div.sk-serial {display: flex;flex-direction: column;align-items: center;background-color: white;padding-right: 0.2em;padding-left: 0.2em;position: relative;}#sk-container-id-1 div.sk-item {position: relative;z-index: 1;}#sk-container-id-1 div.sk-parallel {display: flex;align-items: stretch;justify-content: center;background-color: white;position: relative;}#sk-container-id-1 div.sk-item::before, #sk-container-id-1 div.sk-parallel-item::before {content: \"\";position: absolute;border-left: 1px solid gray;box-sizing: border-box;top: 0;bottom: 0;left: 50%;z-index: -1;}#sk-container-id-1 div.sk-parallel-item {display: flex;flex-direction: column;z-index: 1;position: relative;background-color: white;}#sk-container-id-1 div.sk-parallel-item:first-child::after {align-self: flex-end;width: 50%;}#sk-container-id-1 div.sk-parallel-item:last-child::after {align-self: flex-start;width: 50%;}#sk-container-id-1 div.sk-parallel-item:only-child::after {width: 0;}#sk-container-id-1 div.sk-dashed-wrapped {border: 1px dashed gray;margin: 0 0.4em 0.5em 0.4em;box-sizing: border-box;padding-bottom: 0.4em;background-color: white;}#sk-container-id-1 div.sk-label label {font-family: monospace;font-weight: bold;display: inline-block;line-height: 1.2em;}#sk-container-id-1 div.sk-label-container {text-align: center;}#sk-container-id-1 div.sk-container {/* jupyter's `normalize.less` sets `[hidden] { display: none; }` but bootstrap.min.css set `[hidden] { display: none !important; }` so we also need the `!important` here to be able to override the default hidden behavior on the sphinx rendered scikit-learn.org. See: https://github.com/scikit-learn/scikit-learn/issues/21755 */display: inline-block !important;position: relative;}#sk-container-id-1 div.sk-text-repr-fallback {display: none;}</style><div id=\"sk-container-id-1\" class=\"sk-top-container\"><div class=\"sk-text-repr-fallback\"><pre>LogisticRegression(random_state=42)</pre><b>In a Jupyter environment, please rerun this cell to show the HTML representation or trust the notebook. <br />On GitHub, the HTML representation is unable to render, please try loading this page with nbviewer.org.</b></div><div class=\"sk-container\" hidden><div class=\"sk-item\"><div class=\"sk-estimator sk-toggleable\"><input class=\"sk-toggleable__control sk-hidden--visually\" id=\"sk-estimator-id-1\" type=\"checkbox\" checked><label for=\"sk-estimator-id-1\" class=\"sk-toggleable__label sk-toggleable__label-arrow\">LogisticRegression</label><div class=\"sk-toggleable__content\"><pre>LogisticRegression(random_state=42)</pre></div></div></div></div></div>"
      ],
      "text/plain": [
       "LogisticRegression(random_state=42)"
      ]
     },
     "execution_count": 10,
     "metadata": {},
     "output_type": "execute_result"
    }
   ],
   "source": [
    "baseline_model.fit(X_train, y_train)\n"
   ]
  },
  {
   "cell_type": "code",
   "execution_count": null,
   "id": "f239657a",
   "metadata": {
    "papermill": {
     "duration": 0.011313,
     "end_time": "2024-01-11T20:22:33.346491",
     "exception": false,
     "start_time": "2024-01-11T20:22:33.335178",
     "status": "completed"
    },
    "tags": []
   },
   "outputs": [],
   "source": []
  }
 ],
 "metadata": {
  "kaggle": {
   "accelerator": "none",
   "dataSources": [
    {
     "databundleVersionId": 7405009,
     "sourceId": 65711,
     "sourceType": "competition"
    }
   ],
   "dockerImageVersionId": 30626,
   "isGpuEnabled": false,
   "isInternetEnabled": true,
   "language": "python",
   "sourceType": "notebook"
  },
  "kernelspec": {
   "display_name": "Python 3",
   "language": "python",
   "name": "python3"
  },
  "language_info": {
   "codemirror_mode": {
    "name": "ipython",
    "version": 3
   },
   "file_extension": ".py",
   "mimetype": "text/x-python",
   "name": "python",
   "nbconvert_exporter": "python",
   "pygments_lexer": "ipython3",
   "version": "3.10.12"
  },
  "papermill": {
   "default_parameters": {},
   "duration": 9.570872,
   "end_time": "2024-01-11T20:22:33.983479",
   "environment_variables": {},
   "exception": null,
   "input_path": "__notebook__.ipynb",
   "output_path": "__notebook__.ipynb",
   "parameters": {},
   "start_time": "2024-01-11T20:22:24.412607",
   "version": "2.4.0"
  }
 },
 "nbformat": 4,
 "nbformat_minor": 5
}
