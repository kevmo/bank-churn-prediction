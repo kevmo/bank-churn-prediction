{
 "cells": [
  {
   "cell_type": "code",
   "execution_count": 1,
   "id": "cc3f4e08",
   "metadata": {
    "_cell_guid": "b1076dfc-b9ad-4769-8c92-a6c4dae69d19",
    "_uuid": "8f2839f25d086af736a60e9eeb907d3b93b6e0e5",
    "execution": {
     "iopub.execute_input": "2024-01-11T21:05:53.240355Z",
     "iopub.status.busy": "2024-01-11T21:05:53.239946Z",
     "iopub.status.idle": "2024-01-11T21:05:55.951302Z",
     "shell.execute_reply": "2024-01-11T21:05:55.950138Z"
    },
    "papermill": {
     "duration": 2.724143,
     "end_time": "2024-01-11T21:05:55.954016",
     "exception": false,
     "start_time": "2024-01-11T21:05:53.229873",
     "status": "completed"
    },
    "tags": []
   },
   "outputs": [
    {
     "name": "stdout",
     "output_type": "stream",
     "text": [
      "/kaggle/input/playground-series-s4e1/sample_submission.csv\n",
      "/kaggle/input/playground-series-s4e1/train.csv\n",
      "/kaggle/input/playground-series-s4e1/test.csv\n"
     ]
    }
   ],
   "source": [
    "# kaggle/python Docker image: https://github.com/kaggle/docker-python\n",
    "\n",
    "import pandas as pd\n",
    "import matplotlib.pyplot as plt\n",
    "import seaborn as sns\n",
    "import numpy as np\n",
    "from scipy.stats import norm\n",
    "from sklearn.preprocessing import StandardScaler\n",
    "from scipy import stats\n",
    "import warnings\n",
    "warnings.filterwarnings('ignore')\n",
    "%matplotlib inline\n",
    "\n",
    "# Input data files are available in the read-only \"../input/\" directory\n",
    "# For example, running this (by clicking run or pressing Shift+Enter) will list all files under the input directory\n",
    "\n",
    "import os\n",
    "for dirname, _, filenames in os.walk('/kaggle/input'):\n",
    "    for filename in filenames:\n",
    "        print(os.path.join(dirname, filename))\n",
    "\n",
    "# You can write up to 20GB to the current directory (/kaggle/working/) that gets preserved as output when you create a version using \"Save & Run All\" \n",
    "# You can also write temporary files to /kaggle/temp/, but they won't be saved outside of the current session"
   ]
  },
  {
   "cell_type": "code",
   "execution_count": 2,
   "id": "7e9e91ea",
   "metadata": {
    "execution": {
     "iopub.execute_input": "2024-01-11T21:05:55.972073Z",
     "iopub.status.busy": "2024-01-11T21:05:55.971044Z",
     "iopub.status.idle": "2024-01-11T21:05:56.537975Z",
     "shell.execute_reply": "2024-01-11T21:05:56.536808Z"
    },
    "papermill": {
     "duration": 0.579351,
     "end_time": "2024-01-11T21:05:56.541351",
     "exception": false,
     "start_time": "2024-01-11T21:05:55.962000",
     "status": "completed"
    },
    "tags": []
   },
   "outputs": [
    {
     "name": "stdout",
     "output_type": "stream",
     "text": [
      "<class 'pandas.core.frame.DataFrame'>\n",
      "RangeIndex: 165034 entries, 0 to 165033\n",
      "Data columns (total 14 columns):\n",
      " #   Column           Non-Null Count   Dtype  \n",
      "---  ------           --------------   -----  \n",
      " 0   id               165034 non-null  int64  \n",
      " 1   CustomerId       165034 non-null  int64  \n",
      " 2   Surname          165034 non-null  object \n",
      " 3   CreditScore      165034 non-null  int64  \n",
      " 4   Geography        165034 non-null  object \n",
      " 5   Gender           165034 non-null  object \n",
      " 6   Age              165034 non-null  float64\n",
      " 7   Tenure           165034 non-null  int64  \n",
      " 8   Balance          165034 non-null  float64\n",
      " 9   NumOfProducts    165034 non-null  int64  \n",
      " 10  HasCrCard        165034 non-null  float64\n",
      " 11  IsActiveMember   165034 non-null  float64\n",
      " 12  EstimatedSalary  165034 non-null  float64\n",
      " 13  Exited           165034 non-null  int64  \n",
      "dtypes: float64(5), int64(6), object(3)\n",
      "memory usage: 17.6+ MB\n"
     ]
    }
   ],
   "source": [
    "BASE_DIR = \"/kaggle/input/playground-series-s4e1\"\n",
    "\n",
    "TRAIN_CSV = f\"{BASE_DIR}/train.csv\"\n",
    "\n",
    "df_train = pd.read_csv(TRAIN_CSV)\n",
    "\n",
    "df_train.info()"
   ]
  },
  {
   "cell_type": "code",
   "execution_count": 3,
   "id": "ab86e0db",
   "metadata": {
    "execution": {
     "iopub.execute_input": "2024-01-11T21:05:56.559442Z",
     "iopub.status.busy": "2024-01-11T21:05:56.558636Z",
     "iopub.status.idle": "2024-01-11T21:05:56.676193Z",
     "shell.execute_reply": "2024-01-11T21:05:56.675099Z"
    },
    "papermill": {
     "duration": 0.129596,
     "end_time": "2024-01-11T21:05:56.678917",
     "exception": false,
     "start_time": "2024-01-11T21:05:56.549321",
     "status": "completed"
    },
    "tags": []
   },
   "outputs": [
    {
     "name": "stdout",
     "output_type": "stream",
     "text": [
      "                id    CustomerId    CreditScore            Age         Tenure  \\\n",
      "count  165034.0000  1.650340e+05  165034.000000  165034.000000  165034.000000   \n",
      "mean    82516.5000  1.569201e+07     656.454373      38.125888       5.020353   \n",
      "std     47641.3565  7.139782e+04      80.103340       8.867205       2.806159   \n",
      "min         0.0000  1.556570e+07     350.000000      18.000000       0.000000   \n",
      "25%     41258.2500  1.563314e+07     597.000000      32.000000       3.000000   \n",
      "50%     82516.5000  1.569017e+07     659.000000      37.000000       5.000000   \n",
      "75%    123774.7500  1.575682e+07     710.000000      42.000000       7.000000   \n",
      "max    165033.0000  1.581569e+07     850.000000      92.000000      10.000000   \n",
      "\n",
      "             Balance  NumOfProducts      HasCrCard  IsActiveMember  \\\n",
      "count  165034.000000  165034.000000  165034.000000   165034.000000   \n",
      "mean    55478.086689       1.554455       0.753954        0.497770   \n",
      "std     62817.663278       0.547154       0.430707        0.499997   \n",
      "min         0.000000       1.000000       0.000000        0.000000   \n",
      "25%         0.000000       1.000000       1.000000        0.000000   \n",
      "50%         0.000000       2.000000       1.000000        0.000000   \n",
      "75%    119939.517500       2.000000       1.000000        1.000000   \n",
      "max    250898.090000       4.000000       1.000000        1.000000   \n",
      "\n",
      "       EstimatedSalary         Exited  \n",
      "count    165034.000000  165034.000000  \n",
      "mean     112574.822734       0.211599  \n",
      "std       50292.865585       0.408443  \n",
      "min          11.580000       0.000000  \n",
      "25%       74637.570000       0.000000  \n",
      "50%      117948.000000       0.000000  \n",
      "75%      155152.467500       0.000000  \n",
      "max      199992.480000       1.000000  \n"
     ]
    }
   ],
   "source": [
    "print(df_train.describe())"
   ]
  },
  {
   "cell_type": "code",
   "execution_count": 4,
   "id": "d53a9321",
   "metadata": {
    "execution": {
     "iopub.execute_input": "2024-01-11T21:05:56.697567Z",
     "iopub.status.busy": "2024-01-11T21:05:56.696398Z",
     "iopub.status.idle": "2024-01-11T21:05:56.840439Z",
     "shell.execute_reply": "2024-01-11T21:05:56.839250Z"
    },
    "papermill": {
     "duration": 0.158177,
     "end_time": "2024-01-11T21:05:56.845248",
     "exception": false,
     "start_time": "2024-01-11T21:05:56.687071",
     "status": "completed"
    },
    "tags": []
   },
   "outputs": [
    {
     "data": {
      "text/plain": [
       "0"
      ]
     },
     "execution_count": 4,
     "metadata": {},
     "output_type": "execute_result"
    }
   ],
   "source": [
    "df_train.duplicated().sum()"
   ]
  },
  {
   "cell_type": "markdown",
   "id": "5c84b8a8",
   "metadata": {
    "papermill": {
     "duration": 0.009219,
     "end_time": "2024-01-11T21:05:56.863441",
     "exception": false,
     "start_time": "2024-01-11T21:05:56.854222",
     "status": "completed"
    },
    "tags": []
   },
   "source": [
    "# 0. Preprocess"
   ]
  },
  {
   "cell_type": "code",
   "execution_count": 5,
   "id": "7c479fc8",
   "metadata": {
    "execution": {
     "iopub.execute_input": "2024-01-11T21:05:56.882823Z",
     "iopub.status.busy": "2024-01-11T21:05:56.882384Z",
     "iopub.status.idle": "2024-01-11T21:05:56.897165Z",
     "shell.execute_reply": "2024-01-11T21:05:56.895877Z"
    },
    "papermill": {
     "duration": 0.027377,
     "end_time": "2024-01-11T21:05:56.899839",
     "exception": false,
     "start_time": "2024-01-11T21:05:56.872462",
     "status": "completed"
    },
    "tags": []
   },
   "outputs": [],
   "source": [
    "DROP_COLUMNS = ['id', 'CustomerId', 'Surname']\n",
    "\n",
    "df = df_train.drop(DROP_COLUMNS, axis=1)"
   ]
  },
  {
   "cell_type": "code",
   "execution_count": 6,
   "id": "c33288f3",
   "metadata": {
    "execution": {
     "iopub.execute_input": "2024-01-11T21:05:56.918524Z",
     "iopub.status.busy": "2024-01-11T21:05:56.917511Z",
     "iopub.status.idle": "2024-01-11T21:05:56.985576Z",
     "shell.execute_reply": "2024-01-11T21:05:56.983553Z"
    },
    "papermill": {
     "duration": 0.082875,
     "end_time": "2024-01-11T21:05:56.991069",
     "exception": false,
     "start_time": "2024-01-11T21:05:56.908194",
     "status": "completed"
    },
    "tags": []
   },
   "outputs": [],
   "source": [
    "ONE_HOT_ENCODE_COLUMNS = ['Geography', 'Gender']\n",
    "\n",
    "df = pd.get_dummies(df, columns=ONE_HOT_ENCODE_COLUMNS, drop_first=True)"
   ]
  },
  {
   "cell_type": "code",
   "execution_count": 7,
   "id": "0b25e825",
   "metadata": {
    "execution": {
     "iopub.execute_input": "2024-01-11T21:05:57.011494Z",
     "iopub.status.busy": "2024-01-11T21:05:57.010957Z",
     "iopub.status.idle": "2024-01-11T21:05:57.040338Z",
     "shell.execute_reply": "2024-01-11T21:05:57.039153Z"
    },
    "papermill": {
     "duration": 0.044486,
     "end_time": "2024-01-11T21:05:57.044010",
     "exception": false,
     "start_time": "2024-01-11T21:05:56.999524",
     "status": "completed"
    },
    "tags": []
   },
   "outputs": [],
   "source": [
    "from sklearn.preprocessing import StandardScaler\n",
    "\n",
    "NUMERICAL_COLUMNS = ['CreditScore', 'Age', 'Tenure', 'Balance', 'NumOfProducts', 'EstimatedSalary']\n",
    "\n",
    "scaler = StandardScaler()\n",
    "df[NUMERICAL_COLUMNS] = scaler.fit_transform(df[NUMERICAL_COLUMNS])\n"
   ]
  },
  {
   "cell_type": "code",
   "execution_count": 8,
   "id": "03e2969b",
   "metadata": {
    "execution": {
     "iopub.execute_input": "2024-01-11T21:05:57.066252Z",
     "iopub.status.busy": "2024-01-11T21:05:57.065869Z",
     "iopub.status.idle": "2024-01-11T21:05:57.073040Z",
     "shell.execute_reply": "2024-01-11T21:05:57.072014Z"
    },
    "papermill": {
     "duration": 0.020369,
     "end_time": "2024-01-11T21:05:57.075344",
     "exception": false,
     "start_time": "2024-01-11T21:05:57.054975",
     "status": "completed"
    },
    "tags": []
   },
   "outputs": [],
   "source": [
    "from sklearn.preprocessing import StandardScaler\n",
    "\n",
    "\n",
    "# TIE IT ALL TOGETHER\n",
    "\n",
    "def preprocess(df):\n",
    "    DROP_COLUMNS = ['id', 'CustomerId', 'Surname']\n",
    "\n",
    "    df = df.drop(DROP_COLUMNS, axis=1)\n",
    "    \n",
    "    ONE_HOT_ENCODE_COLUMNS = ['Geography', 'Gender']\n",
    "\n",
    "    df = pd.get_dummies(df, columns=ONE_HOT_ENCODE_COLUMNS, drop_first=True)\n",
    "    \n",
    "    NUMERICAL_COLUMNS = ['CreditScore', 'Age', 'Tenure', 'Balance', 'NumOfProducts', 'EstimatedSalary']\n",
    "\n",
    "    scaler = StandardScaler()\n",
    "    df[NUMERICAL_COLUMNS] = scaler.fit_transform(df[NUMERICAL_COLUMNS])\n",
    "    \n",
    "    print(df.columns)\n",
    "    \n",
    "    return df"
   ]
  },
  {
   "cell_type": "markdown",
   "id": "6286cad2",
   "metadata": {
    "papermill": {
     "duration": 0.007663,
     "end_time": "2024-01-11T21:05:57.091197",
     "exception": false,
     "start_time": "2024-01-11T21:05:57.083534",
     "status": "completed"
    },
    "tags": []
   },
   "source": [
    "# 1. Train a Baseline model"
   ]
  },
  {
   "cell_type": "code",
   "execution_count": 9,
   "id": "7a408109",
   "metadata": {
    "execution": {
     "iopub.execute_input": "2024-01-11T21:05:57.108710Z",
     "iopub.status.busy": "2024-01-11T21:05:57.108308Z",
     "iopub.status.idle": "2024-01-11T21:05:57.524446Z",
     "shell.execute_reply": "2024-01-11T21:05:57.522931Z"
    },
    "papermill": {
     "duration": 0.42843,
     "end_time": "2024-01-11T21:05:57.527429",
     "exception": false,
     "start_time": "2024-01-11T21:05:57.098999",
     "status": "completed"
    },
    "tags": []
   },
   "outputs": [
    {
     "name": "stdout",
     "output_type": "stream",
     "text": [
      "Index(['CreditScore', 'Age', 'Tenure', 'Balance', 'NumOfProducts', 'HasCrCard',\n",
      "       'IsActiveMember', 'EstimatedSalary', 'Exited', 'Geography_Germany',\n",
      "       'Geography_Spain', 'Gender_Male'],\n",
      "      dtype='object')\n"
     ]
    }
   ],
   "source": [
    "# Start fresh\n",
    "\n",
    "df_train = pd.read_csv(TRAIN_CSV)\n",
    "\n",
    "df_train = preprocess(df_train)"
   ]
  },
  {
   "cell_type": "code",
   "execution_count": 10,
   "id": "85036743",
   "metadata": {
    "execution": {
     "iopub.execute_input": "2024-01-11T21:05:57.546398Z",
     "iopub.status.busy": "2024-01-11T21:05:57.545942Z",
     "iopub.status.idle": "2024-01-11T21:05:57.712446Z",
     "shell.execute_reply": "2024-01-11T21:05:57.711359Z"
    },
    "papermill": {
     "duration": 0.179125,
     "end_time": "2024-01-11T21:05:57.715316",
     "exception": false,
     "start_time": "2024-01-11T21:05:57.536191",
     "status": "completed"
    },
    "tags": []
   },
   "outputs": [],
   "source": [
    "from sklearn.model_selection import train_test_split\n",
    "\n",
    "X = df.drop('Exited', axis=1)\n",
    "y = df['Exited']\n",
    "\n",
    "X_train, X_test, y_train, y_test = train_test_split(X, y, test_size=0.2, random_state=42)"
   ]
  },
  {
   "cell_type": "code",
   "execution_count": 11,
   "id": "97eef2c9",
   "metadata": {
    "execution": {
     "iopub.execute_input": "2024-01-11T21:05:57.734590Z",
     "iopub.status.busy": "2024-01-11T21:05:57.733698Z",
     "iopub.status.idle": "2024-01-11T21:05:57.841746Z",
     "shell.execute_reply": "2024-01-11T21:05:57.840639Z"
    },
    "papermill": {
     "duration": 0.121032,
     "end_time": "2024-01-11T21:05:57.844679",
     "exception": false,
     "start_time": "2024-01-11T21:05:57.723647",
     "status": "completed"
    },
    "tags": []
   },
   "outputs": [],
   "source": [
    "from sklearn.linear_model import LogisticRegression\n",
    "\n",
    "baseline_model = LogisticRegression(random_state=42)\n"
   ]
  },
  {
   "cell_type": "code",
   "execution_count": 12,
   "id": "07f1efdb",
   "metadata": {
    "execution": {
     "iopub.execute_input": "2024-01-11T21:05:57.863792Z",
     "iopub.status.busy": "2024-01-11T21:05:57.863356Z",
     "iopub.status.idle": "2024-01-11T21:05:58.209359Z",
     "shell.execute_reply": "2024-01-11T21:05:58.207837Z"
    },
    "papermill": {
     "duration": 0.36009,
     "end_time": "2024-01-11T21:05:58.213536",
     "exception": false,
     "start_time": "2024-01-11T21:05:57.853446",
     "status": "completed"
    },
    "tags": []
   },
   "outputs": [
    {
     "data": {
      "text/html": [
       "<style>#sk-container-id-1 {color: black;background-color: white;}#sk-container-id-1 pre{padding: 0;}#sk-container-id-1 div.sk-toggleable {background-color: white;}#sk-container-id-1 label.sk-toggleable__label {cursor: pointer;display: block;width: 100%;margin-bottom: 0;padding: 0.3em;box-sizing: border-box;text-align: center;}#sk-container-id-1 label.sk-toggleable__label-arrow:before {content: \"▸\";float: left;margin-right: 0.25em;color: #696969;}#sk-container-id-1 label.sk-toggleable__label-arrow:hover:before {color: black;}#sk-container-id-1 div.sk-estimator:hover label.sk-toggleable__label-arrow:before {color: black;}#sk-container-id-1 div.sk-toggleable__content {max-height: 0;max-width: 0;overflow: hidden;text-align: left;background-color: #f0f8ff;}#sk-container-id-1 div.sk-toggleable__content pre {margin: 0.2em;color: black;border-radius: 0.25em;background-color: #f0f8ff;}#sk-container-id-1 input.sk-toggleable__control:checked~div.sk-toggleable__content {max-height: 200px;max-width: 100%;overflow: auto;}#sk-container-id-1 input.sk-toggleable__control:checked~label.sk-toggleable__label-arrow:before {content: \"▾\";}#sk-container-id-1 div.sk-estimator input.sk-toggleable__control:checked~label.sk-toggleable__label {background-color: #d4ebff;}#sk-container-id-1 div.sk-label input.sk-toggleable__control:checked~label.sk-toggleable__label {background-color: #d4ebff;}#sk-container-id-1 input.sk-hidden--visually {border: 0;clip: rect(1px 1px 1px 1px);clip: rect(1px, 1px, 1px, 1px);height: 1px;margin: -1px;overflow: hidden;padding: 0;position: absolute;width: 1px;}#sk-container-id-1 div.sk-estimator {font-family: monospace;background-color: #f0f8ff;border: 1px dotted black;border-radius: 0.25em;box-sizing: border-box;margin-bottom: 0.5em;}#sk-container-id-1 div.sk-estimator:hover {background-color: #d4ebff;}#sk-container-id-1 div.sk-parallel-item::after {content: \"\";width: 100%;border-bottom: 1px solid gray;flex-grow: 1;}#sk-container-id-1 div.sk-label:hover label.sk-toggleable__label {background-color: #d4ebff;}#sk-container-id-1 div.sk-serial::before {content: \"\";position: absolute;border-left: 1px solid gray;box-sizing: border-box;top: 0;bottom: 0;left: 50%;z-index: 0;}#sk-container-id-1 div.sk-serial {display: flex;flex-direction: column;align-items: center;background-color: white;padding-right: 0.2em;padding-left: 0.2em;position: relative;}#sk-container-id-1 div.sk-item {position: relative;z-index: 1;}#sk-container-id-1 div.sk-parallel {display: flex;align-items: stretch;justify-content: center;background-color: white;position: relative;}#sk-container-id-1 div.sk-item::before, #sk-container-id-1 div.sk-parallel-item::before {content: \"\";position: absolute;border-left: 1px solid gray;box-sizing: border-box;top: 0;bottom: 0;left: 50%;z-index: -1;}#sk-container-id-1 div.sk-parallel-item {display: flex;flex-direction: column;z-index: 1;position: relative;background-color: white;}#sk-container-id-1 div.sk-parallel-item:first-child::after {align-self: flex-end;width: 50%;}#sk-container-id-1 div.sk-parallel-item:last-child::after {align-self: flex-start;width: 50%;}#sk-container-id-1 div.sk-parallel-item:only-child::after {width: 0;}#sk-container-id-1 div.sk-dashed-wrapped {border: 1px dashed gray;margin: 0 0.4em 0.5em 0.4em;box-sizing: border-box;padding-bottom: 0.4em;background-color: white;}#sk-container-id-1 div.sk-label label {font-family: monospace;font-weight: bold;display: inline-block;line-height: 1.2em;}#sk-container-id-1 div.sk-label-container {text-align: center;}#sk-container-id-1 div.sk-container {/* jupyter's `normalize.less` sets `[hidden] { display: none; }` but bootstrap.min.css set `[hidden] { display: none !important; }` so we also need the `!important` here to be able to override the default hidden behavior on the sphinx rendered scikit-learn.org. See: https://github.com/scikit-learn/scikit-learn/issues/21755 */display: inline-block !important;position: relative;}#sk-container-id-1 div.sk-text-repr-fallback {display: none;}</style><div id=\"sk-container-id-1\" class=\"sk-top-container\"><div class=\"sk-text-repr-fallback\"><pre>LogisticRegression(random_state=42)</pre><b>In a Jupyter environment, please rerun this cell to show the HTML representation or trust the notebook. <br />On GitHub, the HTML representation is unable to render, please try loading this page with nbviewer.org.</b></div><div class=\"sk-container\" hidden><div class=\"sk-item\"><div class=\"sk-estimator sk-toggleable\"><input class=\"sk-toggleable__control sk-hidden--visually\" id=\"sk-estimator-id-1\" type=\"checkbox\" checked><label for=\"sk-estimator-id-1\" class=\"sk-toggleable__label sk-toggleable__label-arrow\">LogisticRegression</label><div class=\"sk-toggleable__content\"><pre>LogisticRegression(random_state=42)</pre></div></div></div></div></div>"
      ],
      "text/plain": [
       "LogisticRegression(random_state=42)"
      ]
     },
     "execution_count": 12,
     "metadata": {},
     "output_type": "execute_result"
    }
   ],
   "source": [
    "baseline_model.fit(X_train, y_train)\n"
   ]
  },
  {
   "cell_type": "markdown",
   "id": "1638e3f5",
   "metadata": {
    "papermill": {
     "duration": 0.017635,
     "end_time": "2024-01-11T21:05:58.249077",
     "exception": false,
     "start_time": "2024-01-11T21:05:58.231442",
     "status": "completed"
    },
    "tags": []
   },
   "source": [
    "# 2. Evaluate"
   ]
  },
  {
   "cell_type": "code",
   "execution_count": 13,
   "id": "b46a551e",
   "metadata": {
    "execution": {
     "iopub.execute_input": "2024-01-11T21:05:58.288837Z",
     "iopub.status.busy": "2024-01-11T21:05:58.286855Z",
     "iopub.status.idle": "2024-01-11T21:05:58.316780Z",
     "shell.execute_reply": "2024-01-11T21:05:58.315235Z"
    },
    "papermill": {
     "duration": 0.054334,
     "end_time": "2024-01-11T21:05:58.321730",
     "exception": false,
     "start_time": "2024-01-11T21:05:58.267396",
     "status": "completed"
    },
    "tags": []
   },
   "outputs": [
    {
     "data": {
      "text/plain": [
       "array([0, 0, 0, ..., 1, 0, 0])"
      ]
     },
     "execution_count": 13,
     "metadata": {},
     "output_type": "execute_result"
    }
   ],
   "source": [
    "y_pred = baseline_model.predict(X_test)\n",
    "\n",
    "y_pred\n"
   ]
  },
  {
   "cell_type": "code",
   "execution_count": 14,
   "id": "027785f2",
   "metadata": {
    "execution": {
     "iopub.execute_input": "2024-01-11T21:05:58.363348Z",
     "iopub.status.busy": "2024-01-11T21:05:58.362647Z",
     "iopub.status.idle": "2024-01-11T21:05:58.535308Z",
     "shell.execute_reply": "2024-01-11T21:05:58.533810Z"
    },
    "papermill": {
     "duration": 0.19677,
     "end_time": "2024-01-11T21:05:58.538561",
     "exception": false,
     "start_time": "2024-01-11T21:05:58.341791",
     "status": "completed"
    },
    "tags": []
   },
   "outputs": [
    {
     "name": "stdout",
     "output_type": "stream",
     "text": [
      "Accuracy: 0.8353985518223407\n",
      "ROC AUC Score: 0.8180489488313094\n",
      "\n",
      "Classification Report:\n",
      "               precision    recall  f1-score   support\n",
      "\n",
      "           0       0.85      0.95      0.90     26052\n",
      "           1       0.70      0.39      0.50      6955\n",
      "\n",
      "    accuracy                           0.84     33007\n",
      "   macro avg       0.78      0.67      0.70     33007\n",
      "weighted avg       0.82      0.84      0.82     33007\n",
      "\n",
      "\n",
      "Confusion Matrix:\n",
      " [[24874  1178]\n",
      " [ 4255  2700]]\n"
     ]
    }
   ],
   "source": [
    "from sklearn.metrics import accuracy_score, classification_report, confusion_matrix, roc_auc_score\n",
    "\n",
    "print(\"Accuracy:\", accuracy_score(y_test, y_pred))\n",
    "print(\"ROC AUC Score:\", roc_auc_score(y_test, baseline_model.predict_proba(X_test)[:, 1]))\n",
    "print(\"\\nClassification Report:\\n\", classification_report(y_test, y_pred))\n",
    "print(\"\\nConfusion Matrix:\\n\", confusion_matrix(y_test, y_pred))\n"
   ]
  },
  {
   "cell_type": "markdown",
   "id": "5eb5f029",
   "metadata": {
    "papermill": {
     "duration": 0.008554,
     "end_time": "2024-01-11T21:05:58.556296",
     "exception": false,
     "start_time": "2024-01-11T21:05:58.547742",
     "status": "completed"
    },
    "tags": []
   },
   "source": [
    "# 3. Generate Submission"
   ]
  },
  {
   "cell_type": "code",
   "execution_count": null,
   "id": "8e64d339",
   "metadata": {
    "papermill": {
     "duration": 0.008396,
     "end_time": "2024-01-11T21:05:58.573441",
     "exception": false,
     "start_time": "2024-01-11T21:05:58.565045",
     "status": "completed"
    },
    "tags": []
   },
   "outputs": [],
   "source": [
    "\n"
   ]
  },
  {
   "cell_type": "code",
   "execution_count": 15,
   "id": "6ad4257e",
   "metadata": {
    "execution": {
     "iopub.execute_input": "2024-01-11T21:05:58.593131Z",
     "iopub.status.busy": "2024-01-11T21:05:58.592089Z",
     "iopub.status.idle": "2024-01-11T21:05:58.944625Z",
     "shell.execute_reply": "2024-01-11T21:05:58.942980Z"
    },
    "papermill": {
     "duration": 0.365352,
     "end_time": "2024-01-11T21:05:58.947505",
     "exception": false,
     "start_time": "2024-01-11T21:05:58.582153",
     "status": "completed"
    },
    "tags": []
   },
   "outputs": [
    {
     "name": "stdout",
     "output_type": "stream",
     "text": [
      "Index(['CreditScore', 'Age', 'Tenure', 'Balance', 'NumOfProducts', 'HasCrCard',\n",
      "       'IsActiveMember', 'EstimatedSalary', 'Geography_Germany',\n",
      "       'Geography_Spain', 'Gender_Male'],\n",
      "      dtype='object')\n"
     ]
    }
   ],
   "source": [
    "TEST_CSV = f\"{BASE_DIR}/test.csv\"\n",
    "\n",
    "df_submission = pd.read_csv(TEST_CSV)\n",
    "\n",
    "df_submission = preprocess(df_submission)"
   ]
  },
  {
   "cell_type": "code",
   "execution_count": 16,
   "id": "910833b0",
   "metadata": {
    "execution": {
     "iopub.execute_input": "2024-01-11T21:05:58.967818Z",
     "iopub.status.busy": "2024-01-11T21:05:58.966641Z",
     "iopub.status.idle": "2024-01-11T21:05:58.990890Z",
     "shell.execute_reply": "2024-01-11T21:05:58.986901Z"
    },
    "papermill": {
     "duration": 0.03939,
     "end_time": "2024-01-11T21:05:58.995778",
     "exception": false,
     "start_time": "2024-01-11T21:05:58.956388",
     "status": "completed"
    },
    "tags": []
   },
   "outputs": [
    {
     "data": {
      "text/plain": [
       "array([0, 1, 0, ..., 0, 0, 0])"
      ]
     },
     "execution_count": 16,
     "metadata": {},
     "output_type": "execute_result"
    }
   ],
   "source": [
    "submit_predictions = baseline_model.predict(df_submission)\n",
    "submit_predictions\n"
   ]
  },
  {
   "cell_type": "code",
   "execution_count": 17,
   "id": "03146c55",
   "metadata": {
    "execution": {
     "iopub.execute_input": "2024-01-11T21:05:59.037603Z",
     "iopub.status.busy": "2024-01-11T21:05:59.036895Z",
     "iopub.status.idle": "2024-01-11T21:05:59.531031Z",
     "shell.execute_reply": "2024-01-11T21:05:59.529750Z"
    },
    "papermill": {
     "duration": 0.518379,
     "end_time": "2024-01-11T21:05:59.534063",
     "exception": false,
     "start_time": "2024-01-11T21:05:59.015684",
     "status": "completed"
    },
    "tags": []
   },
   "outputs": [],
   "source": [
    "submission_df = pd.DataFrame({'id': pd.read_csv(TEST_CSV)['id'], 'Exited': submit_predictions})\n",
    "\n",
    "submission_df.to_csv('submission.csv', index=False)\n",
    "\n"
   ]
  },
  {
   "cell_type": "code",
   "execution_count": null,
   "id": "3079f069",
   "metadata": {
    "papermill": {
     "duration": 0.009031,
     "end_time": "2024-01-11T21:05:59.552262",
     "exception": false,
     "start_time": "2024-01-11T21:05:59.543231",
     "status": "completed"
    },
    "tags": []
   },
   "outputs": [],
   "source": []
  }
 ],
 "metadata": {
  "kaggle": {
   "accelerator": "none",
   "dataSources": [
    {
     "databundleVersionId": 7405009,
     "sourceId": 65711,
     "sourceType": "competition"
    }
   ],
   "dockerImageVersionId": 30626,
   "isGpuEnabled": false,
   "isInternetEnabled": true,
   "language": "python",
   "sourceType": "notebook"
  },
  "kernelspec": {
   "display_name": "Python 3",
   "language": "python",
   "name": "python3"
  },
  "language_info": {
   "codemirror_mode": {
    "name": "ipython",
    "version": 3
   },
   "file_extension": ".py",
   "mimetype": "text/x-python",
   "name": "python",
   "nbconvert_exporter": "python",
   "pygments_lexer": "ipython3",
   "version": "3.10.12"
  },
  "papermill": {
   "default_parameters": {},
   "duration": 10.852752,
   "end_time": "2024-01-11T21:06:00.183091",
   "environment_variables": {},
   "exception": null,
   "input_path": "__notebook__.ipynb",
   "output_path": "__notebook__.ipynb",
   "parameters": {},
   "start_time": "2024-01-11T21:05:49.330339",
   "version": "2.4.0"
  }
 },
 "nbformat": 4,
 "nbformat_minor": 5
}
